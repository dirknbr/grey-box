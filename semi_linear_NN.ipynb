{
  "nbformat": 4,
  "nbformat_minor": 0,
  "metadata": {
    "colab": {
      "name": "semi linear NN",
      "provenance": [],
      "collapsed_sections": [],
      "authorship_tag": "ABX9TyNJ8oO97R3m6DUfIAJyOVCM",
      "include_colab_link": true
    },
    "kernelspec": {
      "name": "python3",
      "display_name": "Python 3"
    },
    "language_info": {
      "name": "python"
    }
  },
  "cells": [
    {
      "cell_type": "markdown",
      "metadata": {
        "id": "view-in-github",
        "colab_type": "text"
      },
      "source": [
        "<a href=\"https://colab.research.google.com/github/dirknbr/grey-box/blob/main/semi_linear_NN.ipynb\" target=\"_parent\"><img src=\"https://colab.research.google.com/assets/colab-badge.svg\" alt=\"Open In Colab\"/></a>"
      ]
    },
    {
      "cell_type": "markdown",
      "source": [
        "# Semi linear model (grey box)\n",
        "\n",
        "We have outcome y and inputs (Z, x). We suspect some nonlinear effects of Z on y\n",
        "but don't care about the shape (black box). We do however care that x has a linear relationship with y. So f() will be a full neural network while g() will\n",
        "be a linear function such as $a x^e$. We want y to be differentiable with respect to x (holding Z constant).   \n",
        "\n",
        "$y = f(Z) + g(x)$\n",
        "\n",
        "To restrict e to be in [0, 1] we use the sigmoid over raw e. \n",
        "\n",
        "In our simulation all variables are strictly positive."
      ],
      "metadata": {
        "id": "G1ufZZOJqcj-"
      }
    },
    {
      "cell_type": "code",
      "execution_count": 28,
      "metadata": {
        "id": "bncutaLifrgU"
      },
      "outputs": [],
      "source": [
        "import numpy as np\n",
        "import tensorflow as tf\n",
        "import matplotlib.pyplot as plt\n"
      ]
    },
    {
      "cell_type": "code",
      "source": [
        "# model is y ~ nn(Z) + x\n",
        "\n",
        "np.random.seed(33)\n",
        "\n",
        "n = 1000\n",
        "Z = np.random.gamma(1, 1, (n, 3))\n",
        "x = np.random.gamma(1, 1, (n, 1))\n",
        "\n",
        "tf.random.set_seed(22)\n",
        "\n",
        "class MyModel(tf.keras.Model):\n",
        "  def __init__(self):\n",
        "    super().__init__()\n",
        "    self.dense1 = tf.keras.layers.Dense(4, activation=tf.nn.relu)\n",
        "    self.dense2 = tf.keras.layers.Dense(1, activation=tf.nn.relu)\n",
        "    # https://keras.io/api/layers/constraints/\n",
        "    # self.dense3 = tf.keras.layers.Dense(1, use_bias=False, kernel_constraint=tf.keras.constraints.NonNeg())\n",
        "    self.beta = tf.Variable(np.random.gamma(1, 1), constraint=tf.keras.constraints.NonNeg())\n",
        "    # adam cannot do a minmax\n",
        "    # self.e = tf.Variable(.5, constraint=tf.keras.constraints.MinMaxNorm(0., 1.))\n",
        "    self.e = tf.Variable(np.random.gamma(1, 1))\n",
        "\n",
        "  def call(self, inputs):\n",
        "    Z, x = inputs\n",
        "    h1 = self.dense1(Z)\n",
        "    o1 = self.dense2(h1)\n",
        "    # pred = o1 + self.dense3(x)\n",
        "    pred = o1 + self.beta * tf.pow(x, tf.nn.sigmoid(self.e))\n",
        "    return pred\n",
        "\n",
        "model = MyModel()"
      ],
      "metadata": {
        "id": "d5Bqln5Hf30n"
      },
      "execution_count": 29,
      "outputs": []
    },
    {
      "cell_type": "code",
      "source": [
        "tf.nn.sigmoid(0.5)"
      ],
      "metadata": {
        "colab": {
          "base_uri": "https://localhost:8080/"
        },
        "id": "kCz4jDRCpzNv",
        "outputId": "3b6f8c45-f704-4e85-b022-875cf8e78060"
      },
      "execution_count": 30,
      "outputs": [
        {
          "output_type": "execute_result",
          "data": {
            "text/plain": [
              "<tf.Tensor: shape=(), dtype=float32, numpy=0.6224593>"
            ]
          },
          "metadata": {},
          "execution_count": 30
        }
      ]
    },
    {
      "cell_type": "code",
      "source": [
        "model.compile(loss='mse', optimizer='adam')"
      ],
      "metadata": {
        "id": "znrA18xKiHiq"
      },
      "execution_count": 31,
      "outputs": []
    },
    {
      "cell_type": "code",
      "source": [
        "# use the model for DGP\n",
        "y = np.maximum(0, model.predict([Z, x]) + np.random.normal(0, 1, (n, 1)))\n",
        "y.shape, y.dtype, y.mean(), y.min(), np.mean(y == 0)"
      ],
      "metadata": {
        "colab": {
          "base_uri": "https://localhost:8080/"
        },
        "id": "z30AcLPeiPHM",
        "outputId": "d7c539dc-5b67-4e65-f069-46f63e8ba55d"
      },
      "execution_count": 32,
      "outputs": [
        {
          "output_type": "execute_result",
          "data": {
            "text/plain": [
              "((1000, 1), dtype('float64'), 3.4821595260012987, 0.0, 0.022)"
            ]
          },
          "metadata": {},
          "execution_count": 32
        }
      ]
    },
    {
      "cell_type": "code",
      "source": [
        "model.summary()"
      ],
      "metadata": {
        "colab": {
          "base_uri": "https://localhost:8080/"
        },
        "id": "JeeWKxnfo6L-",
        "outputId": "fb5a543f-531c-4f0d-c6d2-6a65ca95e2f2"
      },
      "execution_count": 33,
      "outputs": [
        {
          "output_type": "stream",
          "name": "stdout",
          "text": [
            "Model: \"my_model_3\"\n",
            "_________________________________________________________________\n",
            " Layer (type)                Output Shape              Param #   \n",
            "=================================================================\n",
            " dense_6 (Dense)             multiple                  16        \n",
            "                                                                 \n",
            " dense_7 (Dense)             multiple                  5         \n",
            "                                                                 \n",
            "=================================================================\n",
            "Total params: 23\n",
            "Trainable params: 23\n",
            "Non-trainable params: 0\n",
            "_________________________________________________________________\n"
          ]
        }
      ]
    },
    {
      "cell_type": "code",
      "source": [
        "model.get_weights()"
      ],
      "metadata": {
        "colab": {
          "base_uri": "https://localhost:8080/"
        },
        "id": "HTAoc33Fv2YP",
        "outputId": "0c73b9a7-017b-45d7-db4d-c45081028692"
      },
      "execution_count": 34,
      "outputs": [
        {
          "output_type": "execute_result",
          "data": {
            "text/plain": [
              "[array([[-0.07347792,  0.74251044,  0.01457387,  0.20697463],\n",
              "        [-0.7142915 ,  0.4823625 ,  0.71595514, -0.1558302 ],\n",
              "        [-0.3803485 ,  0.38671184,  0.5336189 ,  0.4130286 ]],\n",
              "       dtype=float32),\n",
              " array([0., 0., 0., 0.], dtype=float32),\n",
              " array([[0.9587562 ],\n",
              "        [0.97319055],\n",
              "        [0.80466866],\n",
              "        [0.9913335 ]], dtype=float32),\n",
              " array([0.], dtype=float32),\n",
              " 0.36253706,\n",
              " 1.3267137]"
            ]
          },
          "metadata": {},
          "execution_count": 34
        }
      ]
    },
    {
      "cell_type": "code",
      "source": [
        "# initialise a new model\n",
        "model2 = MyModel()\n",
        "model2.compile(loss='mse', optimizer='adam')"
      ],
      "metadata": {
        "id": "h3E58jJHsFWW"
      },
      "execution_count": 35,
      "outputs": []
    },
    {
      "cell_type": "code",
      "source": [
        "model2.fit([Z, x], y, epochs=100)"
      ],
      "metadata": {
        "colab": {
          "base_uri": "https://localhost:8080/"
        },
        "id": "FXhICLQ9pU4y",
        "outputId": "29cb3b13-69f2-4beb-fd96-95d43c388e4b"
      },
      "execution_count": 36,
      "outputs": [
        {
          "output_type": "stream",
          "name": "stdout",
          "text": [
            "Epoch 1/100\n",
            "32/32 [==============================] - 1s 2ms/step - loss: 10.0659\n",
            "Epoch 2/100\n",
            "32/32 [==============================] - 0s 2ms/step - loss: 9.3061\n",
            "Epoch 3/100\n",
            "32/32 [==============================] - 0s 2ms/step - loss: 8.3543\n",
            "Epoch 4/100\n",
            "32/32 [==============================] - 0s 2ms/step - loss: 7.1161\n",
            "Epoch 5/100\n",
            "32/32 [==============================] - 0s 2ms/step - loss: 5.7177\n",
            "Epoch 6/100\n",
            "32/32 [==============================] - 0s 2ms/step - loss: 4.6767\n",
            "Epoch 7/100\n",
            "32/32 [==============================] - 0s 2ms/step - loss: 3.9706\n",
            "Epoch 8/100\n",
            "32/32 [==============================] - 0s 2ms/step - loss: 3.4650\n",
            "Epoch 9/100\n",
            "32/32 [==============================] - 0s 2ms/step - loss: 3.1076\n",
            "Epoch 10/100\n",
            "32/32 [==============================] - 0s 2ms/step - loss: 2.8437\n",
            "Epoch 11/100\n",
            "32/32 [==============================] - 0s 2ms/step - loss: 2.6414\n",
            "Epoch 12/100\n",
            "32/32 [==============================] - 0s 2ms/step - loss: 2.4679\n",
            "Epoch 13/100\n",
            "32/32 [==============================] - 0s 2ms/step - loss: 2.3266\n",
            "Epoch 14/100\n",
            "32/32 [==============================] - 0s 2ms/step - loss: 2.2036\n",
            "Epoch 15/100\n",
            "32/32 [==============================] - 0s 2ms/step - loss: 2.0930\n",
            "Epoch 16/100\n",
            "32/32 [==============================] - 0s 2ms/step - loss: 1.9906\n",
            "Epoch 17/100\n",
            "32/32 [==============================] - 0s 2ms/step - loss: 1.9014\n",
            "Epoch 18/100\n",
            "32/32 [==============================] - 0s 2ms/step - loss: 1.8182\n",
            "Epoch 19/100\n",
            "32/32 [==============================] - 0s 2ms/step - loss: 1.7476\n",
            "Epoch 20/100\n",
            "32/32 [==============================] - 0s 2ms/step - loss: 1.6828\n",
            "Epoch 21/100\n",
            "32/32 [==============================] - 0s 2ms/step - loss: 1.6251\n",
            "Epoch 22/100\n",
            "32/32 [==============================] - 0s 2ms/step - loss: 1.5733\n",
            "Epoch 23/100\n",
            "32/32 [==============================] - 0s 2ms/step - loss: 1.5256\n",
            "Epoch 24/100\n",
            "32/32 [==============================] - 0s 2ms/step - loss: 1.4834\n",
            "Epoch 25/100\n",
            "32/32 [==============================] - 0s 2ms/step - loss: 1.4459\n",
            "Epoch 26/100\n",
            "32/32 [==============================] - 0s 3ms/step - loss: 1.4127\n",
            "Epoch 27/100\n",
            "32/32 [==============================] - 0s 2ms/step - loss: 1.3814\n",
            "Epoch 28/100\n",
            "32/32 [==============================] - 0s 2ms/step - loss: 1.3543\n",
            "Epoch 29/100\n",
            "32/32 [==============================] - 0s 2ms/step - loss: 1.3282\n",
            "Epoch 30/100\n",
            "32/32 [==============================] - 0s 2ms/step - loss: 1.3052\n",
            "Epoch 31/100\n",
            "32/32 [==============================] - 0s 2ms/step - loss: 1.2827\n",
            "Epoch 32/100\n",
            "32/32 [==============================] - 0s 2ms/step - loss: 1.2633\n",
            "Epoch 33/100\n",
            "32/32 [==============================] - 0s 2ms/step - loss: 1.2447\n",
            "Epoch 34/100\n",
            "32/32 [==============================] - 0s 2ms/step - loss: 1.2279\n",
            "Epoch 35/100\n",
            "32/32 [==============================] - 0s 2ms/step - loss: 1.2116\n",
            "Epoch 36/100\n",
            "32/32 [==============================] - 0s 2ms/step - loss: 1.1968\n",
            "Epoch 37/100\n",
            "32/32 [==============================] - 0s 2ms/step - loss: 1.1835\n",
            "Epoch 38/100\n",
            "32/32 [==============================] - 0s 2ms/step - loss: 1.1713\n",
            "Epoch 39/100\n",
            "32/32 [==============================] - 0s 2ms/step - loss: 1.1606\n",
            "Epoch 40/100\n",
            "32/32 [==============================] - 0s 2ms/step - loss: 1.1491\n",
            "Epoch 41/100\n",
            "32/32 [==============================] - 0s 2ms/step - loss: 1.1380\n",
            "Epoch 42/100\n",
            "32/32 [==============================] - 0s 2ms/step - loss: 1.1295\n",
            "Epoch 43/100\n",
            "32/32 [==============================] - 0s 2ms/step - loss: 1.1211\n",
            "Epoch 44/100\n",
            "32/32 [==============================] - 0s 1ms/step - loss: 1.1142\n",
            "Epoch 45/100\n",
            "32/32 [==============================] - 0s 2ms/step - loss: 1.1065\n",
            "Epoch 46/100\n",
            "32/32 [==============================] - 0s 2ms/step - loss: 1.1003\n",
            "Epoch 47/100\n",
            "32/32 [==============================] - 0s 2ms/step - loss: 1.0954\n",
            "Epoch 48/100\n",
            "32/32 [==============================] - 0s 2ms/step - loss: 1.0894\n",
            "Epoch 49/100\n",
            "32/32 [==============================] - 0s 2ms/step - loss: 1.0853\n",
            "Epoch 50/100\n",
            "32/32 [==============================] - 0s 2ms/step - loss: 1.0812\n",
            "Epoch 51/100\n",
            "32/32 [==============================] - 0s 1ms/step - loss: 1.0766\n",
            "Epoch 52/100\n",
            "32/32 [==============================] - 0s 2ms/step - loss: 1.0726\n",
            "Epoch 53/100\n",
            "32/32 [==============================] - 0s 2ms/step - loss: 1.0693\n",
            "Epoch 54/100\n",
            "32/32 [==============================] - 0s 2ms/step - loss: 1.0656\n",
            "Epoch 55/100\n",
            "32/32 [==============================] - 0s 2ms/step - loss: 1.0625\n",
            "Epoch 56/100\n",
            "32/32 [==============================] - 0s 2ms/step - loss: 1.0616\n",
            "Epoch 57/100\n",
            "32/32 [==============================] - 0s 2ms/step - loss: 1.0574\n",
            "Epoch 58/100\n",
            "32/32 [==============================] - 0s 2ms/step - loss: 1.0558\n",
            "Epoch 59/100\n",
            "32/32 [==============================] - 0s 2ms/step - loss: 1.0538\n",
            "Epoch 60/100\n",
            "32/32 [==============================] - 0s 3ms/step - loss: 1.0517\n",
            "Epoch 61/100\n",
            "32/32 [==============================] - 0s 2ms/step - loss: 1.0500\n",
            "Epoch 62/100\n",
            "32/32 [==============================] - 0s 2ms/step - loss: 1.0489\n",
            "Epoch 63/100\n",
            "32/32 [==============================] - 0s 2ms/step - loss: 1.0474\n",
            "Epoch 64/100\n",
            "32/32 [==============================] - 0s 2ms/step - loss: 1.0457\n",
            "Epoch 65/100\n",
            "32/32 [==============================] - 0s 2ms/step - loss: 1.0454\n",
            "Epoch 66/100\n",
            "32/32 [==============================] - 0s 2ms/step - loss: 1.0441\n",
            "Epoch 67/100\n",
            "32/32 [==============================] - 0s 2ms/step - loss: 1.0438\n",
            "Epoch 68/100\n",
            "32/32 [==============================] - 0s 2ms/step - loss: 1.0437\n",
            "Epoch 69/100\n",
            "32/32 [==============================] - 0s 2ms/step - loss: 1.0421\n",
            "Epoch 70/100\n",
            "32/32 [==============================] - 0s 2ms/step - loss: 1.0408\n",
            "Epoch 71/100\n",
            "32/32 [==============================] - 0s 2ms/step - loss: 1.0394\n",
            "Epoch 72/100\n",
            "32/32 [==============================] - 0s 2ms/step - loss: 1.0392\n",
            "Epoch 73/100\n",
            "32/32 [==============================] - 0s 2ms/step - loss: 1.0395\n",
            "Epoch 74/100\n",
            "32/32 [==============================] - 0s 2ms/step - loss: 1.0389\n",
            "Epoch 75/100\n",
            "32/32 [==============================] - 0s 2ms/step - loss: 1.0383\n",
            "Epoch 76/100\n",
            "32/32 [==============================] - 0s 2ms/step - loss: 1.0378\n",
            "Epoch 77/100\n",
            "32/32 [==============================] - 0s 2ms/step - loss: 1.0380\n",
            "Epoch 78/100\n",
            "32/32 [==============================] - 0s 1ms/step - loss: 1.0369\n",
            "Epoch 79/100\n",
            "32/32 [==============================] - 0s 2ms/step - loss: 1.0371\n",
            "Epoch 80/100\n",
            "32/32 [==============================] - 0s 2ms/step - loss: 1.0362\n",
            "Epoch 81/100\n",
            "32/32 [==============================] - 0s 2ms/step - loss: 1.0354\n",
            "Epoch 82/100\n",
            "32/32 [==============================] - 0s 2ms/step - loss: 1.0364\n",
            "Epoch 83/100\n",
            "32/32 [==============================] - 0s 2ms/step - loss: 1.0355\n",
            "Epoch 84/100\n",
            "32/32 [==============================] - 0s 3ms/step - loss: 1.0357\n",
            "Epoch 85/100\n",
            "32/32 [==============================] - 0s 3ms/step - loss: 1.0342\n",
            "Epoch 86/100\n",
            "32/32 [==============================] - 0s 2ms/step - loss: 1.0346\n",
            "Epoch 87/100\n",
            "32/32 [==============================] - 0s 2ms/step - loss: 1.0334\n",
            "Epoch 88/100\n",
            "32/32 [==============================] - 0s 2ms/step - loss: 1.0342\n",
            "Epoch 89/100\n",
            "32/32 [==============================] - 0s 2ms/step - loss: 1.0337\n",
            "Epoch 90/100\n",
            "32/32 [==============================] - 0s 2ms/step - loss: 1.0321\n",
            "Epoch 91/100\n",
            "32/32 [==============================] - 0s 2ms/step - loss: 1.0325\n",
            "Epoch 92/100\n",
            "32/32 [==============================] - 0s 2ms/step - loss: 1.0311\n",
            "Epoch 93/100\n",
            "32/32 [==============================] - 0s 2ms/step - loss: 1.0318\n",
            "Epoch 94/100\n",
            "32/32 [==============================] - 0s 2ms/step - loss: 1.0308\n",
            "Epoch 95/100\n",
            "32/32 [==============================] - 0s 2ms/step - loss: 1.0309\n",
            "Epoch 96/100\n",
            "32/32 [==============================] - 0s 2ms/step - loss: 1.0307\n",
            "Epoch 97/100\n",
            "32/32 [==============================] - 0s 2ms/step - loss: 1.0296\n",
            "Epoch 98/100\n",
            "32/32 [==============================] - 0s 2ms/step - loss: 1.0311\n",
            "Epoch 99/100\n",
            "32/32 [==============================] - 0s 3ms/step - loss: 1.0287\n",
            "Epoch 100/100\n",
            "32/32 [==============================] - 0s 2ms/step - loss: 1.0288\n"
          ]
        },
        {
          "output_type": "execute_result",
          "data": {
            "text/plain": [
              "<keras.callbacks.History at 0x7f8004a0ac90>"
            ]
          },
          "metadata": {},
          "execution_count": 36
        }
      ]
    },
    {
      "cell_type": "code",
      "source": [
        "pred = model2.predict([Z, x])\n",
        "\n",
        "print(np.mean(abs(y - pred)))"
      ],
      "metadata": {
        "colab": {
          "base_uri": "https://localhost:8080/"
        },
        "id": "YrxMa_qmpyX_",
        "outputId": "2a2132ff-ff02-49ba-9304-c93ab954804c"
      },
      "execution_count": 37,
      "outputs": [
        {
          "output_type": "stream",
          "name": "stdout",
          "text": [
            "0.8293572724116847\n"
          ]
        }
      ]
    },
    {
      "cell_type": "code",
      "source": [
        "plt.scatter(y, pred)"
      ],
      "metadata": {
        "colab": {
          "base_uri": "https://localhost:8080/",
          "height": 282
        },
        "id": "rttVZtQnp-vV",
        "outputId": "3857e170-7f26-4e6a-d73a-022fe8ea49ef"
      },
      "execution_count": 38,
      "outputs": [
        {
          "output_type": "execute_result",
          "data": {
            "text/plain": [
              "<matplotlib.collections.PathCollection at 0x7f8004906590>"
            ]
          },
          "metadata": {},
          "execution_count": 38
        },
        {
          "output_type": "display_data",
          "data": {
            "image/png": "[encoded data removed]",
            "text/plain": [
              "<Figure size 432x288 with 1 Axes>"
            ]
          },
          "metadata": {
            "needs_background": "light"
          }
        }
      ]
    },
    {
      "cell_type": "code",
      "source": [
        "model2.get_weights()"
      ],
      "metadata": {
        "colab": {
          "base_uri": "https://localhost:8080/"
        },
        "id": "Kswq0FmDrzNS",
        "outputId": "ee86c6f1-a7cd-4c39-f7a0-95e222183f07"
      },
      "execution_count": 39,
      "outputs": [
        {
          "output_type": "execute_result",
          "data": {
            "text/plain": [
              "[array([[-0.26814526,  0.9135039 , -0.14707662,  0.867702  ],\n",
              "        [-0.22665092,  0.9577994 , -0.26810634,  0.7538159 ],\n",
              "        [ 0.33264878,  1.2065213 ,  0.7597398 , -0.22329159]],\n",
              "       dtype=float32),\n",
              " array([ 0.14241707, -0.04445745, -0.06263687, -0.24936366], dtype=float32),\n",
              " array([[-0.4954785 ],\n",
              "        [ 0.83693296],\n",
              "        [ 0.5287038 ],\n",
              "        [ 0.2293178 ]], dtype=float32),\n",
              " array([0.04566088], dtype=float32),\n",
              " 0.51276636,\n",
              " 0.36446375]"
            ]
          },
          "metadata": {},
          "execution_count": 39
        }
      ]
    },
    {
      "cell_type": "code",
      "source": [
        "np.corrcoef(y.squeeze(), pred.squeeze())"
      ],
      "metadata": {
        "colab": {
          "base_uri": "https://localhost:8080/"
        },
        "id": "Y-QV5LwKtPdp",
        "outputId": "308177d3-3d29-4684-d0b9-5d4dd8fe8a8e"
      },
      "execution_count": 40,
      "outputs": [
        {
          "output_type": "execute_result",
          "data": {
            "text/plain": [
              "array([[1.        , 0.87742021],\n",
              "       [0.87742021, 1.        ]])"
            ]
          },
          "metadata": {},
          "execution_count": 40
        }
      ]
    }
  ]
}